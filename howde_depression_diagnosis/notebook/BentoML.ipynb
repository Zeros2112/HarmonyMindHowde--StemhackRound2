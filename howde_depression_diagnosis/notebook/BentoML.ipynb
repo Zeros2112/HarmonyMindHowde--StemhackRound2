{
 "cells": [
  {
   "cell_type": "markdown",
   "metadata": {},
   "source": [
    "# BentoML\n",
    "\n",
    "Deploy word2vec+tfidf model as REST API to google cloud "
   ]
  },
  {
   "cell_type": "code",
   "execution_count": 50,
   "metadata": {},
   "outputs": [],
   "source": [
    "import pandas as pd\n",
    "import numpy as np\n",
    "from sklearn.pipeline import Pipeline\n",
    "from sklearn.linear_model import LogisticRegression\n",
    "from sklearn.ensemble import RandomForestClassifier\n",
    "from sklearn.metrics import classification_report, accuracy_score, confusion_matrix\n",
    "from gensim.models import Word2Vec"
   ]
  },
  {
   "cell_type": "code",
   "execution_count": 51,
   "metadata": {},
   "outputs": [],
   "source": [
    "import sys\n",
    "sys.path.append('../')\n",
    "from data_preprocess import Posts\n",
    "from word_embedding_vectorizer import WordEmbeddingVectorizer"
   ]
  },
  {
   "cell_type": "markdown",
   "metadata": {},
   "source": [
    "## Prepare Dataset"
   ]
  },
  {
   "cell_type": "code",
   "execution_count": 52,
   "metadata": {},
   "outputs": [],
   "source": [
    "# path = '/content/Insight_Stress_Analysis/data/' \n",
    "path = '../data/'\n",
    "train = pd.read_csv(path + 'dreaddit-train.csv', encoding = \"ISO-8859-1\")\n",
    "test = pd.read_csv(path + 'dreaddit-test.csv', encoding = \"ISO-8859-1\")"
   ]
  },
  {
   "cell_type": "code",
   "execution_count": 53,
   "metadata": {},
   "outputs": [],
   "source": [
    "train_text = Posts(train.text)\n",
    "test_text = Posts(test.text)"
   ]
  },
  {
   "cell_type": "markdown",
   "metadata": {},
   "source": [
    "## Create Model for Production"
   ]
  },
  {
   "cell_type": "code",
   "execution_count": 54,
   "metadata": {},
   "outputs": [
    {
     "name": "stderr",
     "output_type": "stream",
     "text": [
      "  0%|          | 0/2838 [00:00<?, ?it/s]"
     ]
    },
    {
     "name": "stderr",
     "output_type": "stream",
     "text": [
      "100%|██████████| 2838/2838 [00:00<00:00, 28518.94it/s]\n",
      "100%|██████████| 2838/2838 [01:30<00:00, 31.20it/s]\n",
      "100%|██████████| 2838/2838 [00:00<00:00, 4217.48it/s]\n",
      "100%|██████████| 715/715 [00:00<00:00, 20292.78it/s]\n",
      "100%|██████████| 715/715 [00:26<00:00, 27.05it/s]\n",
      "100%|██████████| 715/715 [00:00<00:00, 2161.31it/s]\n"
     ]
    }
   ],
   "source": [
    "train_text = train_text.preprocess()\n",
    "test_text = test_text.preprocess()"
   ]
  },
  {
   "cell_type": "code",
   "execution_count": 55,
   "metadata": {},
   "outputs": [],
   "source": [
    "word2vec = Word2Vec(train_text, vector_size=300, window=10, min_count=2, workers=10, epochs=100)\n",
    "word_vectorizer = WordEmbeddingVectorizer(word2vec)"
   ]
  },
  {
   "cell_type": "code",
   "execution_count": 56,
   "metadata": {},
   "outputs": [],
   "source": [
    "X_train = word_vectorizer.fit(train_text).transform(train_text)\n",
    "X_test = word_vectorizer.fit(test_text).transform(test_text)"
   ]
  },
  {
   "cell_type": "code",
   "execution_count": 57,
   "metadata": {},
   "outputs": [],
   "source": [
    "y_train = train.label\n",
    "y_test = test.label"
   ]
  },
  {
   "cell_type": "code",
   "execution_count": 58,
   "metadata": {},
   "outputs": [
    {
     "name": "stdout",
     "output_type": "stream",
     "text": [
      "              precision    recall  f1-score   support\n",
      "\n",
      "           0       0.80      0.56      0.66       346\n",
      "           1       0.68      0.87      0.76       369\n",
      "\n",
      "    accuracy                           0.72       715\n",
      "   macro avg       0.74      0.71      0.71       715\n",
      "weighted avg       0.74      0.72      0.71       715\n",
      "\n"
     ]
    }
   ],
   "source": [
    "# random forest\n",
    "word_embedding_rf = RandomForestClassifier(n_estimators=100, random_state=0).fit(X_train, y_train) \n",
    "y_pred = word_embedding_rf.predict(X_test)\n",
    "print(classification_report(y_test, y_pred))"
   ]
  },
  {
   "cell_type": "code",
   "execution_count": 59,
   "metadata": {},
   "outputs": [
    {
     "name": "stdout",
     "output_type": "stream",
     "text": [
      "0.7188811188811188\n"
     ]
    }
   ],
   "source": [
    "print(accuracy_score(y_test, y_pred))"
   ]
  },
  {
   "cell_type": "code",
   "execution_count": 60,
   "metadata": {},
   "outputs": [
    {
     "name": "stdout",
     "output_type": "stream",
     "text": [
      "[[194 152]\n",
      " [ 49 320]]\n"
     ]
    }
   ],
   "source": [
    "print(confusion_matrix(y_test, y_pred))"
   ]
  },
  {
   "cell_type": "markdown",
   "metadata": {},
   "source": [
    "## BentoService for model serving"
   ]
  },
  {
   "cell_type": "code",
   "execution_count": 61,
   "metadata": {},
   "outputs": [],
   "source": [
    "# %%writefile \"../word_embedding_model.py\"\n",
    "import pandas as pd\n",
    "import bentoml\n",
    "from bentoml.artifact import PickleArtifact\n",
    "from bentoml.handlers import DataframeHandler\n",
    "from data_preprocess import Posts\n",
    "from word_embedding_vectorizer import WordEmbeddingVectorizer\n",
    "from gensim.models import Word2Vec\n",
    "\n",
    "@bentoml.artifacts([PickleArtifact('word_vectorizer'),\n",
    "                    PickleArtifact('word_embedding_rf')]) \n",
    "\n",
    "@bentoml.env(pip_dependencies=[\"pandas\", \"numpy\", \"gensim\", \"scikit-learn\", \"nltk\"])\n",
    "\n",
    "class WordEmbeddingModel(bentoml.BentoService):\n",
    "        \n",
    "    @bentoml.api(DataframeHandler, typ='series')\n",
    "    def preprocess(self, series):\n",
    "        preprocess_series = Posts(series).preprocess()\n",
    "        input_matrix = self.artifacts.word_vectorizer.fit(preprocess_series).transform(preprocess_series)\n",
    "        return input_matrix\n",
    "    \n",
    "    @bentoml.api(DataframeHandler, typ='series')\n",
    "    def predict(self, series):\n",
    "        input_matrix = self.preprocess(series)\n",
    "        pred_labels = self.artifacts.word_embedding_rf.predict(input_matrix)\n",
    "        pred_proba = self.artifacts.word_embedding_rf.predict_proba(input_matrix)\n",
    "        confidence_score = [prob[1] for prob in pred_proba]\n",
    "        output = pd.DataFrame({'text': series, 'confidence_score': confidence_score, 'labels': pred_labels})\n",
    "        output['labels'] = output['labels'].map({1: 'stress', 0: 'non-stress'})\n",
    "        \n",
    "        return output"
   ]
  },
  {
   "cell_type": "code",
   "execution_count": 62,
   "metadata": {},
   "outputs": [
    {
     "name": "stderr",
     "output_type": "stream",
     "text": [
      "100%|██████████| 10/10 [00:00<00:00, 6224.85it/s]\n",
      "100%|██████████| 10/10 [00:00<00:00, 23.19it/s]\n",
      "100%|██████████| 10/10 [00:00<00:00, 1803.15it/s]\n"
     ]
    },
    {
     "data": {
      "text/html": [
       "<div>\n",
       "<style scoped>\n",
       "    .dataframe tbody tr th:only-of-type {\n",
       "        vertical-align: middle;\n",
       "    }\n",
       "\n",
       "    .dataframe tbody tr th {\n",
       "        vertical-align: top;\n",
       "    }\n",
       "\n",
       "    .dataframe thead th {\n",
       "        text-align: right;\n",
       "    }\n",
       "</style>\n",
       "<table border=\"1\" class=\"dataframe\">\n",
       "  <thead>\n",
       "    <tr style=\"text-align: right;\">\n",
       "      <th></th>\n",
       "      <th>text</th>\n",
       "      <th>confidence_score</th>\n",
       "      <th>labels</th>\n",
       "    </tr>\n",
       "  </thead>\n",
       "  <tbody>\n",
       "    <tr>\n",
       "      <th>0</th>\n",
       "      <td>Its like that, if you want or not. ME: I have ...</td>\n",
       "      <td>0.66</td>\n",
       "      <td>stress</td>\n",
       "    </tr>\n",
       "    <tr>\n",
       "      <th>1</th>\n",
       "      <td>I man the front desk and my title is HR Custom...</td>\n",
       "      <td>0.44</td>\n",
       "      <td>non-stress</td>\n",
       "    </tr>\n",
       "    <tr>\n",
       "      <th>2</th>\n",
       "      <td>We'd be saving so much money with this new hou...</td>\n",
       "      <td>0.67</td>\n",
       "      <td>stress</td>\n",
       "    </tr>\n",
       "    <tr>\n",
       "      <th>3</th>\n",
       "      <td>My ex used to shoot back with \"Do you want me ...</td>\n",
       "      <td>0.73</td>\n",
       "      <td>stress</td>\n",
       "    </tr>\n",
       "    <tr>\n",
       "      <th>4</th>\n",
       "      <td>I havent said anything to him yet because Im n...</td>\n",
       "      <td>0.85</td>\n",
       "      <td>stress</td>\n",
       "    </tr>\n",
       "    <tr>\n",
       "      <th>5</th>\n",
       "      <td>Thanks. Edit 1 - Fuel Receipt As Requested. &lt;u...</td>\n",
       "      <td>0.37</td>\n",
       "      <td>non-stress</td>\n",
       "    </tr>\n",
       "    <tr>\n",
       "      <th>6</th>\n",
       "      <td>When moving into their tiny house, they would ...</td>\n",
       "      <td>0.50</td>\n",
       "      <td>non-stress</td>\n",
       "    </tr>\n",
       "    <tr>\n",
       "      <th>7</th>\n",
       "      <td>More specifically, for example, I live with ro...</td>\n",
       "      <td>0.83</td>\n",
       "      <td>stress</td>\n",
       "    </tr>\n",
       "    <tr>\n",
       "      <th>8</th>\n",
       "      <td>Long story short my family in NE Ohio is abusi...</td>\n",
       "      <td>0.73</td>\n",
       "      <td>stress</td>\n",
       "    </tr>\n",
       "    <tr>\n",
       "      <th>9</th>\n",
       "      <td>This new \"roommate\" lived 3 hours away in an p...</td>\n",
       "      <td>0.21</td>\n",
       "      <td>non-stress</td>\n",
       "    </tr>\n",
       "  </tbody>\n",
       "</table>\n",
       "</div>"
      ],
      "text/plain": [
       "                                                text  confidence_score  \\\n",
       "0  Its like that, if you want or not. ME: I have ...              0.66   \n",
       "1  I man the front desk and my title is HR Custom...              0.44   \n",
       "2  We'd be saving so much money with this new hou...              0.67   \n",
       "3  My ex used to shoot back with \"Do you want me ...              0.73   \n",
       "4  I havent said anything to him yet because Im n...              0.85   \n",
       "5  Thanks. Edit 1 - Fuel Receipt As Requested. <u...              0.37   \n",
       "6  When moving into their tiny house, they would ...              0.50   \n",
       "7  More specifically, for example, I live with ro...              0.83   \n",
       "8  Long story short my family in NE Ohio is abusi...              0.73   \n",
       "9  This new \"roommate\" lived 3 hours away in an p...              0.21   \n",
       "\n",
       "       labels  \n",
       "0      stress  \n",
       "1  non-stress  \n",
       "2      stress  \n",
       "3      stress  \n",
       "4      stress  \n",
       "5  non-stress  \n",
       "6  non-stress  \n",
       "7      stress  \n",
       "8      stress  \n",
       "9  non-stress  "
      ]
     },
     "execution_count": 62,
     "metadata": {},
     "output_type": "execute_result"
    }
   ],
   "source": [
    "\n",
    "# Initialize bentoML model with artifacts\n",
    "\n",
    "bento_model = WordEmbeddingModel()\n",
    "bento_model.pack('word_vectorizer', word_vectorizer)\n",
    "bento_model.pack('word_embedding_rf', word_embedding_rf)\n",
    "\n",
    "series = test.text.iloc[:10]\n",
    "bento_model.predict(series)"
   ]
  },
  {
   "cell_type": "markdown",
   "metadata": {},
   "source": [
    "## Load BentoService from saved bundle"
   ]
  },
  {
   "cell_type": "code",
   "execution_count": 64,
   "metadata": {},
   "outputs": [
    {
     "data": {
      "text/plain": [
       "'WordEmbeddingModel:20230806031905_9407F7'"
      ]
     },
     "execution_count": 64,
     "metadata": {},
     "output_type": "execute_result"
    }
   ],
   "source": [
    "bento_tag = '{name}:{version}'.format(name=bento_model.name, version=bento_model.version)\n",
    "bento_tag"
   ]
  },
  {
   "cell_type": "markdown",
   "metadata": {},
   "source": [
    "## Deploy BentoService with Google Cloud Run\n",
    "- <b>Link to API: https://sentiment-ghxotopljq-uw.a.run.app</b>\n",
    "\n",
    "\n",
    "- Tutorial: https://github.com/bentoml/BentoML/blob/master/guides/deployment/deploy-with-google-cloud-run/deploy-with-google-cloud-run.ipynb"
   ]
  },
  {
   "cell_type": "code",
   "execution_count": 1,
   "metadata": {},
   "outputs": [],
   "source": [
    "#import requests\n",
    "#response = requests.post(\"http://127.0.0.1:5000/predict\", json=[\"I like you\", \"I feel stressful\"])\n",
    "#print(response.text)"
   ]
  },
  {
   "cell_type": "code",
   "execution_count": null,
   "metadata": {},
   "outputs": [],
   "source": []
  },
  {
   "cell_type": "code",
   "execution_count": null,
   "metadata": {},
   "outputs": [],
   "source": []
  }
 ],
 "metadata": {
  "kernelspec": {
   "display_name": "Python 3",
   "language": "python",
   "name": "python3"
  },
  "language_info": {
   "codemirror_mode": {
    "name": "ipython",
    "version": 3
   },
   "file_extension": ".py",
   "mimetype": "text/x-python",
   "name": "python",
   "nbconvert_exporter": "python",
   "pygments_lexer": "ipython3",
   "version": "3.7.4"
  },
  "toc": {
   "base_numbering": 1,
   "nav_menu": {},
   "number_sections": true,
   "sideBar": true,
   "skip_h1_title": true,
   "title_cell": "Table of Contents",
   "title_sidebar": "Contents",
   "toc_cell": false,
   "toc_position": {},
   "toc_section_display": true,
   "toc_window_display": true
  }
 },
 "nbformat": 4,
 "nbformat_minor": 4
}
