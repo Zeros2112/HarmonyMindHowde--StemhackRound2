{
 "cells": [
  {
   "cell_type": "code",
   "execution_count": 47,
   "id": "1ae4df2d",
   "metadata": {},
   "outputs": [],
   "source": [
    "import pandas as pd\n",
    "import numpy as np"
   ]
  },
  {
   "cell_type": "code",
   "execution_count": 48,
   "id": "a7f2ceaf",
   "metadata": {},
   "outputs": [
    {
     "name": "stderr",
     "output_type": "stream",
     "text": [
      "C:\\Users\\giahy\\anaconda3\\lib\\site-packages\\pandas\\util\\_decorators.py:311: ParserWarning: Falling back to the 'python' engine because the 'c' engine does not support regex separators (separators > 1 char and different from '\\s+' are interpreted as regex); you can avoid this warning by specifying engine='python'.\n",
      "  return func(*args, **kwargs)\n"
     ]
    }
   ],
   "source": [
    "df = pd.read_csv(\"diary.csv.txt\",sep=\"/t\") \n",
    "df2 = pd.read_csv(\"advice.csv.txt\",sep=\"/t\")\n"
   ]
  },
  {
   "cell_type": "code",
   "execution_count": 49,
   "id": "3e7eff48",
   "metadata": {},
   "outputs": [
    {
     "data": {
      "text/html": [
       "<div>\n",
       "<style scoped>\n",
       "    .dataframe tbody tr th:only-of-type {\n",
       "        vertical-align: middle;\n",
       "    }\n",
       "\n",
       "    .dataframe tbody tr th {\n",
       "        vertical-align: top;\n",
       "    }\n",
       "\n",
       "    .dataframe thead th {\n",
       "        text-align: right;\n",
       "    }\n",
       "</style>\n",
       "<table border=\"1\" class=\"dataframe\">\n",
       "  <thead>\n",
       "    <tr style=\"text-align: right;\">\n",
       "      <th></th>\n",
       "      <th>-- Howde has an advice for you --</th>\n",
       "    </tr>\n",
       "  </thead>\n",
       "  <tbody>\n",
       "    <tr>\n",
       "      <th>0</th>\n",
       "      <td>Write your worries down in a journal.</td>\n",
       "    </tr>\n",
       "    <tr>\n",
       "      <th>1</th>\n",
       "      <td>Peel an orange. Studies show the smell of citr...</td>\n",
       "    </tr>\n",
       "    <tr>\n",
       "      <th>2</th>\n",
       "      <td>Read a book for six minutes.</td>\n",
       "    </tr>\n",
       "    <tr>\n",
       "      <th>3</th>\n",
       "      <td>Eat an avocado. The monounsaturated fats and p...</td>\n",
       "    </tr>\n",
       "    <tr>\n",
       "      <th>4</th>\n",
       "      <td>Take a walk in green space.</td>\n",
       "    </tr>\n",
       "  </tbody>\n",
       "</table>\n",
       "</div>"
      ],
      "text/plain": [
       "                   -- Howde has an advice for you --\n",
       "0              Write your worries down in a journal.\n",
       "1  Peel an orange. Studies show the smell of citr...\n",
       "2                       Read a book for six minutes.\n",
       "3  Eat an avocado. The monounsaturated fats and p...\n",
       "4                        Take a walk in green space."
      ]
     },
     "execution_count": 49,
     "metadata": {},
     "output_type": "execute_result"
    }
   ],
   "source": [
    "df.head(5)\n",
    "df2.head(5)"
   ]
  },
  {
   "cell_type": "code",
   "execution_count": 50,
   "id": "7f604640",
   "metadata": {},
   "outputs": [
    {
     "data": {
      "text/plain": [
       "<bound method DataFrame.info of    --  Lets write into your diary or talk to chatbot --\n",
       "0                                   Who is your hero?  \n",
       "1      If you could live anywhere, where would it be?  \n",
       "2                          What is your biggest fear?  \n",
       "3              What is your favorite family vacation?  \n",
       "4   What would you change about yourself if you co...  \n",
       "..                                                ...  \n",
       "95    What is your favorite family holiday tradition?  \n",
       "96       Who is the most intelligent person you know?  \n",
       "97  If you had to describe yourself as an animal, ...  \n",
       "98         What is one thing you will never do again?  \n",
       "99                             Who knows you the best  \n",
       "\n",
       "[100 rows x 1 columns]>"
      ]
     },
     "execution_count": 50,
     "metadata": {},
     "output_type": "execute_result"
    }
   ],
   "source": [
    "df.info"
   ]
  },
  {
   "cell_type": "code",
   "execution_count": 51,
   "id": "eefcbf0e",
   "metadata": {},
   "outputs": [
    {
     "data": {
      "text/plain": [
       "<bound method DataFrame.info of                      -- Howde has an advice for you --\n",
       "0                Write your worries down in a journal.\n",
       "1    Peel an orange. Studies show the smell of citr...\n",
       "2                         Read a book for six minutes.\n",
       "3    Eat an avocado. The monounsaturated fats and p...\n",
       "4                          Take a walk in green space.\n",
       "..                                                 ...\n",
       "98   Use your imagination and look at your life lik...\n",
       "99                   Count to 10, then count backward.\n",
       "100  Spend a little time in the sun. (Just wear you...\n",
       "101            Take a lunch break away from your desk.\n",
       "102  If your stress becomes unmanageable or overwhe...\n",
       "\n",
       "[103 rows x 1 columns]>"
      ]
     },
     "execution_count": 51,
     "metadata": {},
     "output_type": "execute_result"
    }
   ],
   "source": [
    "df2.info"
   ]
  },
  {
   "cell_type": "code",
   "execution_count": 52,
   "id": "e4d4221d",
   "metadata": {},
   "outputs": [],
   "source": [
    "x=np.random.randint(0,99)\n"
   ]
  },
  {
   "cell_type": "code",
   "execution_count": 53,
   "id": "20279411",
   "metadata": {},
   "outputs": [
    {
     "data": {
      "text/plain": [
       "74"
      ]
     },
     "execution_count": 53,
     "metadata": {},
     "output_type": "execute_result"
    }
   ],
   "source": [
    "x"
   ]
  },
  {
   "cell_type": "code",
   "execution_count": 54,
   "id": "3f73d27f",
   "metadata": {},
   "outputs": [
    {
     "name": "stdout",
     "output_type": "stream",
     "text": [
      "   --  Lets write into your diary or talk to chatbot --\n",
      "74                           Do you collect anything?  \n"
     ]
    }
   ],
   "source": [
    "outputfordiary = df.iloc[[x]]\n",
    "output1 = outputfordiary.astype(str)\n",
    "print(output1)"
   ]
  },
  {
   "cell_type": "code",
   "execution_count": 55,
   "id": "70ef68d0",
   "metadata": {},
   "outputs": [
    {
     "name": "stdout",
     "output_type": "stream",
     "text": [
      "   -- Howde has an advice for you --\n",
      "74         Drink a cup of green tea.\n"
     ]
    }
   ],
   "source": [
    "outputforadvice = df2.iloc[[x]]\n",
    "output2 = outputforadvice.astype(str)\n",
    "print(output2)"
   ]
  },
  {
   "cell_type": "code",
   "execution_count": null,
   "id": "88f7b657",
   "metadata": {},
   "outputs": [],
   "source": []
  }
 ],
 "metadata": {
  "kernelspec": {
   "display_name": "Python 3 (ipykernel)",
   "language": "python",
   "name": "python3"
  },
  "language_info": {
   "codemirror_mode": {
    "name": "ipython",
    "version": 3
   },
   "file_extension": ".py",
   "mimetype": "text/x-python",
   "name": "python",
   "nbconvert_exporter": "python",
   "pygments_lexer": "ipython3",
   "version": "3.10.9"
  }
 },
 "nbformat": 4,
 "nbformat_minor": 5
}
